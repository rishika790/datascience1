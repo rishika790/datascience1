{
 "cells": [
  {
   "cell_type": "code",
   "execution_count": 24,
   "id": "5fe1f86a",
   "metadata": {},
   "outputs": [],
   "source": [
    "import numpy as np"
   ]
  },
  {
   "cell_type": "code",
   "execution_count": 25,
   "id": "527bb13f",
   "metadata": {},
   "outputs": [
    {
     "data": {
      "text/plain": [
       "'2.3.1'"
      ]
     },
     "execution_count": 25,
     "metadata": {},
     "output_type": "execute_result"
    }
   ],
   "source": [
    "np.__version__"
   ]
  },
  {
   "cell_type": "code",
   "execution_count": 26,
   "id": "f9892fe8",
   "metadata": {},
   "outputs": [],
   "source": [
    "# list , array\n",
    "lst = [1,2,3,4,5]\n",
    "arr =np.array(lst)"
   ]
  },
  {
   "cell_type": "code",
   "execution_count": 27,
   "id": "5e54e8b2",
   "metadata": {},
   "outputs": [
    {
     "data": {
      "text/plain": [
       "array([1, 2, 3, 4, 5])"
      ]
     },
     "execution_count": 27,
     "metadata": {},
     "output_type": "execute_result"
    }
   ],
   "source": [
    "arr"
   ]
  },
  {
   "cell_type": "code",
   "execution_count": 28,
   "id": "b1ef7e02",
   "metadata": {},
   "outputs": [],
   "source": [
    "array =np.array([1,2,3,4,5,6,7,8])\n"
   ]
  },
  {
   "cell_type": "code",
   "execution_count": 29,
   "id": "f5706a5b",
   "metadata": {},
   "outputs": [
    {
     "data": {
      "text/plain": [
       "array([1, 2, 3, 4, 5])"
      ]
     },
     "execution_count": 29,
     "metadata": {},
     "output_type": "execute_result"
    }
   ],
   "source": [
    "arr"
   ]
  },
  {
   "cell_type": "code",
   "execution_count": 30,
   "id": "d505ff7d",
   "metadata": {},
   "outputs": [
    {
     "name": "stdout",
     "output_type": "stream",
     "text": [
      "type of list <class 'list'>\n",
      "arr\n",
      "types of array <class 'numpy.ndarray'>\n"
     ]
    }
   ],
   "source": [
    "lst = [1,2,3,4,5,6]\n",
    "print(\"type of list\", type(lst))\n",
    "arr =np.array(lst)\n",
    "print(\"arr\")\n",
    "print(\"types of array\", type(arr))"
   ]
  },
  {
   "cell_type": "code",
   "execution_count": 31,
   "id": "4b7fbcc1",
   "metadata": {},
   "outputs": [
    {
     "data": {
      "text/plain": [
       "array([ 1,  2,  3,  4,  5,  6,  7,  8,  9, 10, 11, 12, 13, 14, 15, 16, 17,\n",
       "       18, 19, 20])"
      ]
     },
     "execution_count": 31,
     "metadata": {},
     "output_type": "execute_result"
    }
   ],
   "source": [
    "arr =np.array(list(range(1,21)))\n",
    "arr"
   ]
  },
  {
   "cell_type": "code",
   "execution_count": 32,
   "id": "7a3f294a",
   "metadata": {},
   "outputs": [
    {
     "data": {
      "text/plain": [
       "array([ 1,  2,  3,  4,  5,  6,  7,  8,  9, 10, 11, 12, 13, 14, 15, 16, 17,\n",
       "       18, 19, 20])"
      ]
     },
     "execution_count": 32,
     "metadata": {},
     "output_type": "execute_result"
    }
   ],
   "source": [
    "arr =np.arange(1,21)\n",
    "arr"
   ]
  },
  {
   "cell_type": "code",
   "execution_count": 33,
   "id": "f4ea4fc2",
   "metadata": {},
   "outputs": [
    {
     "data": {
      "text/plain": [
       "array([[0., 0., 0., 0., 0., 0., 0., 0., 0., 0., 0., 0., 0., 0., 0., 0.,\n",
       "        0., 0., 0., 0.],\n",
       "       [0., 0., 0., 0., 0., 0., 0., 0., 0., 0., 0., 0., 0., 0., 0., 0.,\n",
       "        0., 0., 0., 0.],\n",
       "       [0., 0., 0., 0., 0., 0., 0., 0., 0., 0., 0., 0., 0., 0., 0., 0.,\n",
       "        0., 0., 0., 0.],\n",
       "       [0., 0., 0., 0., 0., 0., 0., 0., 0., 0., 0., 0., 0., 0., 0., 0.,\n",
       "        0., 0., 0., 0.],\n",
       "       [0., 0., 0., 0., 0., 0., 0., 0., 0., 0., 0., 0., 0., 0., 0., 0.,\n",
       "        0., 0., 0., 0.]])"
      ]
     },
     "execution_count": 33,
     "metadata": {},
     "output_type": "execute_result"
    }
   ],
   "source": [
    "np.zeros((5,20)) # 5 row and 20 column"
   ]
  },
  {
   "cell_type": "code",
   "execution_count": 34,
   "id": "5b501997",
   "metadata": {},
   "outputs": [
    {
     "data": {
      "text/plain": [
       "array([[1., 1., 1., 1., 1., 1., 1., 1., 1., 1.],\n",
       "       [1., 1., 1., 1., 1., 1., 1., 1., 1., 1.],\n",
       "       [1., 1., 1., 1., 1., 1., 1., 1., 1., 1.],\n",
       "       [1., 1., 1., 1., 1., 1., 1., 1., 1., 1.],\n",
       "       [1., 1., 1., 1., 1., 1., 1., 1., 1., 1.]])"
      ]
     },
     "execution_count": 34,
     "metadata": {},
     "output_type": "execute_result"
    }
   ],
   "source": [
    "np.ones((5,10))"
   ]
  },
  {
   "cell_type": "code",
   "execution_count": null,
   "id": "fcdd07a4",
   "metadata": {},
   "outputs": [],
   "source": [
    "array =np.linespace(1,10,5)\n",
    "arr"
   ]
  },
  {
   "cell_type": "code",
   "execution_count": null,
   "id": "b25a760d",
   "metadata": {},
   "outputs": [],
   "source": [
    "# 1d array convert to 2d\n",
    "arr =np.range(0,30)\n",
    "arr"
   ]
  },
  {
   "cell_type": "code",
   "execution_count": null,
   "id": "e99787fb",
   "metadata": {},
   "outputs": [],
   "source": [
    "arr.reshape((5,6))"
   ]
  },
  {
   "cell_type": "code",
   "execution_count": null,
   "id": "7482011b",
   "metadata": {},
   "outputs": [],
   "source": [
    "arr.reshape(10,3)"
   ]
  },
  {
   "cell_type": "code",
   "execution_count": null,
   "id": "79b93ded",
   "metadata": {},
   "outputs": [
    {
     "data": {
      "text/plain": [
       "array([1, 1, 3, 4, 3, 3, 2, 3, 2], dtype=int32)"
      ]
     },
     "execution_count": 39,
     "metadata": {},
     "output_type": "execute_result"
    }
   ],
   "source": [
    "arr =np.random.randint(1,5,9)\n",
    "arr # 1 d"
   ]
  },
  {
   "cell_type": "code",
   "execution_count": 40,
   "id": "368e8ee8",
   "metadata": {},
   "outputs": [
    {
     "data": {
      "text/plain": [
       "array([[1, 4, 4],\n",
       "       [3, 1, 4],\n",
       "       [4, 1, 1]], dtype=int32)"
      ]
     },
     "execution_count": 40,
     "metadata": {},
     "output_type": "execute_result"
    }
   ],
   "source": [
    "arr =np.random.randint(1,5,(3,3))\n",
    "arr"
   ]
  },
  {
   "cell_type": "code",
   "execution_count": 42,
   "id": "05588abd",
   "metadata": {},
   "outputs": [
    {
     "data": {
      "text/plain": [
       "array([0.01459926, 0.96585146, 0.59795391, 0.21484761, 0.99370322,\n",
       "       0.79492337, 0.4487876 , 0.5742392 , 0.76959801, 0.83278762])"
      ]
     },
     "execution_count": 42,
     "metadata": {},
     "output_type": "execute_result"
    }
   ],
   "source": [
    "arr =np.random.random(10)\n",
    "arr"
   ]
  },
  {
   "cell_type": "code",
   "execution_count": 43,
   "id": "3e9d758e",
   "metadata": {},
   "outputs": [
    {
     "data": {
      "text/plain": [
       "array([[0.25113267, 0.37996451, 0.48945846, 0.19442567, 0.65116649,\n",
       "        0.98268728, 0.80725424, 0.78951494, 0.34920415, 0.42203178],\n",
       "       [0.27961767, 0.50045633, 0.56007391, 0.64104451, 0.26669598,\n",
       "        0.5546121 , 0.65102985, 0.73924048, 0.65112927, 0.2863826 ],\n",
       "       [0.62119605, 0.37688979, 0.7912127 , 0.21945646, 0.4322282 ,\n",
       "        0.0076187 , 0.18591231, 0.58567063, 0.79875197, 0.04270733],\n",
       "       [0.44303703, 0.26073779, 0.71681783, 0.491153  , 0.24959531,\n",
       "        0.99258341, 0.28910613, 0.98797845, 0.54686834, 0.63014615],\n",
       "       [0.6872673 , 0.98720443, 0.36412572, 0.32886244, 0.24727121,\n",
       "        0.53897298, 0.87367744, 0.75635638, 0.87893966, 0.98627276]])"
      ]
     },
     "execution_count": 43,
     "metadata": {},
     "output_type": "execute_result"
    }
   ],
   "source": [
    "arr =np.random.random((5,10))\n",
    "arr"
   ]
  },
  {
   "cell_type": "code",
   "execution_count": null,
   "id": "2e048f24",
   "metadata": {},
   "outputs": [],
   "source": [
    "arr =np.arrange(60).reshape(12,5)\n",
    "arr"
   ]
  },
  {
   "cell_type": "code",
   "execution_count": 49,
   "id": "40f434af",
   "metadata": {},
   "outputs": [
    {
     "name": "stdout",
     "output_type": "stream",
     "text": [
      "shape of array :- (5, 10)\n",
      "size of array 50\n",
      "data type:- float64\n",
      "number of dimension 2\n"
     ]
    }
   ],
   "source": [
    "arr.shape\n",
    "arr.size\n",
    "arr.dtype\n",
    "print(\"shape of array :-\", arr.shape)\n",
    "print(\"size of array\", arr.size)\n",
    "print(\"data type:-\", arr.dtype)\n",
    "print(\"number of dimension\", arr.ndim)"
   ]
  },
  {
   "cell_type": "code",
   "execution_count": null,
   "id": "ccd2c477",
   "metadata": {},
   "outputs": [
    {
     "data": {
      "text/plain": [
       "array([0.25113267, 0.37996451, 0.48945846, 0.19442567, 0.65116649,\n",
       "       0.98268728, 0.80725424, 0.78951494, 0.34920415, 0.42203178,\n",
       "       0.27961767, 0.50045633, 0.56007391, 0.64104451, 0.26669598,\n",
       "       0.5546121 , 0.65102985, 0.73924048, 0.65112927, 0.2863826 ,\n",
       "       0.62119605, 0.37688979, 0.7912127 , 0.21945646, 0.4322282 ,\n",
       "       0.0076187 , 0.18591231, 0.58567063, 0.79875197, 0.04270733,\n",
       "       0.44303703, 0.26073779, 0.71681783, 0.491153  , 0.24959531,\n",
       "       0.99258341, 0.28910613, 0.98797845, 0.54686834, 0.63014615,\n",
       "       0.6872673 , 0.98720443, 0.36412572, 0.32886244, 0.24727121,\n",
       "       0.53897298, 0.87367744, 0.75635638, 0.87893966, 0.98627276])"
      ]
     },
     "execution_count": 50,
     "metadata": {},
     "output_type": "execute_result"
    }
   ],
   "source": [
    "arr.flatten() # 2d to 1d"
   ]
  },
  {
   "cell_type": "code",
   "execution_count": null,
   "id": "768e187d",
   "metadata": {},
   "outputs": [
    {
     "data": {
      "text/plain": [
       "array([0.25113267, 0.37996451, 0.48945846, 0.19442567, 0.65116649,\n",
       "       0.98268728, 0.80725424, 0.78951494, 0.34920415, 0.42203178,\n",
       "       0.27961767, 0.50045633, 0.56007391, 0.64104451, 0.26669598,\n",
       "       0.5546121 , 0.65102985, 0.73924048, 0.65112927, 0.2863826 ,\n",
       "       0.62119605, 0.37688979, 0.7912127 , 0.21945646, 0.4322282 ,\n",
       "       0.0076187 , 0.18591231, 0.58567063, 0.79875197, 0.04270733,\n",
       "       0.44303703, 0.26073779, 0.71681783, 0.491153  , 0.24959531,\n",
       "       0.99258341, 0.28910613, 0.98797845, 0.54686834, 0.63014615,\n",
       "       0.6872673 , 0.98720443, 0.36412572, 0.32886244, 0.24727121,\n",
       "       0.53897298, 0.87367744, 0.75635638, 0.87893966, 0.98627276])"
      ]
     },
     "execution_count": 51,
     "metadata": {},
     "output_type": "execute_result"
    }
   ],
   "source": [
    "arr.ravel() # 2d ko 1d ko # task differnce"
   ]
  },
  {
   "cell_type": "code",
   "execution_count": 52,
   "id": "1fce40f9",
   "metadata": {},
   "outputs": [
    {
     "data": {
      "text/plain": [
       "(5, 10)"
      ]
     },
     "execution_count": 52,
     "metadata": {},
     "output_type": "execute_result"
    }
   ],
   "source": [
    "arr.shape"
   ]
  },
  {
   "cell_type": "code",
   "execution_count": null,
   "id": "f1368b89",
   "metadata": {},
   "outputs": [
    {
     "data": {
      "text/plain": [
       "array([[0.25113267, 0.27961767, 0.62119605, 0.44303703, 0.6872673 ],\n",
       "       [0.37996451, 0.50045633, 0.37688979, 0.26073779, 0.98720443],\n",
       "       [0.48945846, 0.56007391, 0.7912127 , 0.71681783, 0.36412572],\n",
       "       [0.19442567, 0.64104451, 0.21945646, 0.491153  , 0.32886244],\n",
       "       [0.65116649, 0.26669598, 0.4322282 , 0.24959531, 0.24727121],\n",
       "       [0.98268728, 0.5546121 , 0.0076187 , 0.99258341, 0.53897298],\n",
       "       [0.80725424, 0.65102985, 0.18591231, 0.28910613, 0.87367744],\n",
       "       [0.78951494, 0.73924048, 0.58567063, 0.98797845, 0.75635638],\n",
       "       [0.34920415, 0.65112927, 0.79875197, 0.54686834, 0.87893966],\n",
       "       [0.42203178, 0.2863826 , 0.04270733, 0.63014615, 0.98627276]])"
      ]
     },
     "execution_count": 53,
     "metadata": {},
     "output_type": "execute_result"
    }
   ],
   "source": [
    "arr.T # convert 5 row 5 column"
   ]
  },
  {
   "cell_type": "code",
   "execution_count": 54,
   "id": "4df10fe5",
   "metadata": {},
   "outputs": [
    {
     "data": {
      "text/plain": [
       "(10, 5)"
      ]
     },
     "execution_count": 54,
     "metadata": {},
     "output_type": "execute_result"
    }
   ],
   "source": [
    "arr.T.shape"
   ]
  },
  {
   "cell_type": "code",
   "execution_count": null,
   "id": "67ef90c8",
   "metadata": {},
   "outputs": [],
   "source": [
    "arr =np.arrange(30)"
   ]
  },
  {
   "cell_type": "code",
   "execution_count": null,
   "id": "1e5d7389",
   "metadata": {},
   "outputs": [],
   "source": [
    "arr[20]"
   ]
  },
  {
   "cell_type": "code",
   "execution_count": 57,
   "id": "253944a8",
   "metadata": {},
   "outputs": [
    {
     "data": {
      "text/plain": [
       "array([[0.25113267, 0.37996451, 0.48945846, 0.19442567, 0.65116649,\n",
       "        0.98268728, 0.80725424, 0.78951494, 0.34920415, 0.42203178],\n",
       "       [0.27961767, 0.50045633, 0.56007391, 0.64104451, 0.26669598,\n",
       "        0.5546121 , 0.65102985, 0.73924048, 0.65112927, 0.2863826 ],\n",
       "       [0.62119605, 0.37688979, 0.7912127 , 0.21945646, 0.4322282 ,\n",
       "        0.0076187 , 0.18591231, 0.58567063, 0.79875197, 0.04270733],\n",
       "       [0.44303703, 0.26073779, 0.71681783, 0.491153  , 0.24959531,\n",
       "        0.99258341, 0.28910613, 0.98797845, 0.54686834, 0.63014615],\n",
       "       [0.6872673 , 0.98720443, 0.36412572, 0.32886244, 0.24727121,\n",
       "        0.53897298, 0.87367744, 0.75635638, 0.87893966, 0.98627276]])"
      ]
     },
     "execution_count": 57,
     "metadata": {},
     "output_type": "execute_result"
    }
   ],
   "source": [
    "arr[0:12]"
   ]
  },
  {
   "cell_type": "code",
   "execution_count": 59,
   "id": "81e5fa89",
   "metadata": {},
   "outputs": [
    {
     "data": {
      "text/plain": [
       "array([[0.25113267, 0.37996451, 0.48945846, 0.19442567, 0.65116649,\n",
       "        0.98268728, 0.80725424, 0.78951494, 0.34920415, 0.42203178],\n",
       "       [0.27961767, 0.50045633, 0.56007391, 0.64104451, 0.26669598,\n",
       "        0.5546121 , 0.65102985, 0.73924048, 0.65112927, 0.2863826 ],\n",
       "       [0.62119605, 0.37688979, 0.7912127 , 0.21945646, 0.4322282 ,\n",
       "        0.0076187 , 0.18591231, 0.58567063, 0.79875197, 0.04270733],\n",
       "       [0.44303703, 0.26073779, 0.71681783, 0.491153  , 0.24959531,\n",
       "        0.99258341, 0.28910613, 0.98797845, 0.54686834, 0.63014615],\n",
       "       [0.6872673 , 0.98720443, 0.36412572, 0.32886244, 0.24727121,\n",
       "        0.53897298, 0.87367744, 0.75635638, 0.87893966, 0.98627276]])"
      ]
     },
     "execution_count": 59,
     "metadata": {},
     "output_type": "execute_result"
    }
   ],
   "source": [
    "arr "
   ]
  },
  {
   "cell_type": "code",
   "execution_count": 60,
   "id": "74bb5d5c",
   "metadata": {},
   "outputs": [
    {
     "data": {
      "text/plain": [
       "array([0.25113267, 0.37996451, 0.48945846, 0.19442567, 0.65116649,\n",
       "       0.98268728, 0.80725424, 0.78951494, 0.34920415, 0.42203178])"
      ]
     },
     "execution_count": 60,
     "metadata": {},
     "output_type": "execute_result"
    }
   ],
   "source": [
    "arr[0]"
   ]
  },
  {
   "cell_type": "code",
   "execution_count": 61,
   "id": "782e09a9",
   "metadata": {},
   "outputs": [],
   "source": [
    "arr[0]=100"
   ]
  },
  {
   "cell_type": "code",
   "execution_count": null,
   "id": "060d78f7",
   "metadata": {},
   "outputs": [],
   "source": [
    "arr =np.arrange(60).reshape(12,5)"
   ]
  },
  {
   "cell_type": "code",
   "execution_count": 62,
   "id": "f3af4839",
   "metadata": {},
   "outputs": [
    {
     "data": {
      "text/plain": [
       "np.float64(0.6510298524393087)"
      ]
     },
     "execution_count": 62,
     "metadata": {},
     "output_type": "execute_result"
    }
   ],
   "source": [
    "arr[1,6]"
   ]
  },
  {
   "cell_type": "code",
   "execution_count": 67,
   "id": "76a616db",
   "metadata": {},
   "outputs": [
    {
     "data": {
      "text/plain": [
       "array([0.64104451, 0.26669598])"
      ]
     },
     "execution_count": 67,
     "metadata": {},
     "output_type": "execute_result"
    }
   ],
   "source": [
    "arr[1,3:5]"
   ]
  },
  {
   "cell_type": "code",
   "execution_count": 68,
   "id": "8fbd6e88",
   "metadata": {},
   "outputs": [
    {
     "data": {
      "text/plain": [
       "array([[100.        ],\n",
       "       [  0.50045633],\n",
       "       [  0.37688979],\n",
       "       [  0.26073779],\n",
       "       [  0.98720443]])"
      ]
     },
     "execution_count": 68,
     "metadata": {},
     "output_type": "execute_result"
    }
   ],
   "source": [
    "arr[0:5,1:2]"
   ]
  },
  {
   "cell_type": "code",
   "execution_count": null,
   "id": "218430e4",
   "metadata": {},
   "outputs": [
    {
     "data": {
      "text/plain": [
       "array([[1.00000000e+02, 1.00000000e+02, 1.00000000e+02, 1.00000000e+02,\n",
       "        1.00000000e+02, 1.00000000e+02, 1.00000000e+02, 1.00000000e+02,\n",
       "        1.00000000e+02, 1.00000000e+02],\n",
       "       [2.79617671e-01, 1.00000000e+02, 5.60073908e-01, 6.41044512e-01,\n",
       "        2.66695978e-01, 5.54612098e-01, 6.51029852e-01, 7.39240481e-01,\n",
       "        6.51129272e-01, 2.86382600e-01],\n",
       "       [6.21196046e-01, 3.76889795e-01, 7.91212696e-01, 2.19456461e-01,\n",
       "        4.32228202e-01, 7.61869788e-03, 1.85912314e-01, 5.85670630e-01,\n",
       "        7.98751970e-01, 4.27073252e-02],\n",
       "       [4.43037031e-01, 2.60737791e-01, 7.16817826e-01, 4.91152996e-01,\n",
       "        2.49595309e-01, 9.92583413e-01, 2.89106129e-01, 9.87978447e-01,\n",
       "        5.46868339e-01, 6.30146153e-01],\n",
       "       [6.87267297e-01, 9.87204426e-01, 3.64125717e-01, 3.28862440e-01,\n",
       "        2.47271213e-01, 5.38972975e-01, 8.73677438e-01, 7.56356384e-01,\n",
       "        8.78939659e-01, 9.86272764e-01]])"
      ]
     },
     "execution_count": 70,
     "metadata": {},
     "output_type": "execute_result"
    }
   ],
   "source": [
    "arr[1,1] = 100 # replace element\n",
    "arr"
   ]
  },
  {
   "cell_type": "code",
   "execution_count": 71,
   "id": "3ef5b7e7",
   "metadata": {},
   "outputs": [
    {
     "data": {
      "text/plain": [
       "array([], shape=(0, 10), dtype=float64)"
      ]
     },
     "execution_count": 71,
     "metadata": {},
     "output_type": "execute_result"
    }
   ],
   "source": [
    "arr[11:4]"
   ]
  },
  {
   "cell_type": "code",
   "execution_count": 72,
   "id": "5379f687",
   "metadata": {},
   "outputs": [
    {
     "data": {
      "text/plain": [
       "array([0.6872673 , 0.98720443, 0.36412572, 0.32886244, 0.24727121,\n",
       "       0.53897298, 0.87367744, 0.75635638, 0.87893966, 0.98627276])"
      ]
     },
     "execution_count": 72,
     "metadata": {},
     "output_type": "execute_result"
    }
   ],
   "source": [
    "arr[-1]"
   ]
  },
  {
   "cell_type": "code",
   "execution_count": 73,
   "id": "baeb554b",
   "metadata": {},
   "outputs": [
    {
     "data": {
      "text/plain": [
       "np.float64(0.986272763961021)"
      ]
     },
     "execution_count": 73,
     "metadata": {},
     "output_type": "execute_result"
    }
   ],
   "source": [
    "arr[-1][-1]"
   ]
  },
  {
   "cell_type": "code",
   "execution_count": null,
   "id": "b1226686",
   "metadata": {},
   "outputs": [],
   "source": [
    "arr =np.array(np.arrange(225).reshape(5,15,3))"
   ]
  },
  {
   "cell_type": "code",
   "execution_count": null,
   "id": "0743544a",
   "metadata": {},
   "outputs": [],
   "source": [
    "arr.ndim,arr.shape, arr.size, dtype('float32')"
   ]
  },
  {
   "cell_type": "code",
   "execution_count": null,
   "id": "17b4ae42",
   "metadata": {},
   "outputs": [
    {
     "data": {
      "text/plain": [
       "array([100., 100., 100., 100., 100., 100., 100., 100., 100., 100.])"
      ]
     },
     "execution_count": 76,
     "metadata": {},
     "output_type": "execute_result"
    }
   ],
   "source": [
    "arr[0] # table dekhna"
   ]
  },
  {
   "cell_type": "code",
   "execution_count": 77,
   "id": "49c8b63b",
   "metadata": {},
   "outputs": [
    {
     "data": {
      "text/plain": [
       "array([0.62119605, 0.37688979, 0.7912127 , 0.21945646, 0.4322282 ,\n",
       "       0.0076187 , 0.18591231, 0.58567063, 0.79875197, 0.04270733])"
      ]
     },
     "execution_count": 77,
     "metadata": {},
     "output_type": "execute_result"
    }
   ],
   "source": [
    "arr[2]"
   ]
  },
  {
   "cell_type": "code",
   "execution_count": null,
   "id": "1e379853",
   "metadata": {},
   "outputs": [],
   "source": [
    "arr[0,2:2]"
   ]
  },
  {
   "cell_type": "code",
   "execution_count": 80,
   "id": "4b7e97bd",
   "metadata": {},
   "outputs": [
    {
     "data": {
      "text/plain": [
       "array([100., 100.])"
      ]
     },
     "execution_count": 80,
     "metadata": {},
     "output_type": "execute_result"
    }
   ],
   "source": [
    "arr[0,3:5]"
   ]
  },
  {
   "cell_type": "code",
   "execution_count": null,
   "id": "77796c90",
   "metadata": {},
   "outputs": [],
   "source": [
    "arr[:,0,:]"
   ]
  },
  {
   "cell_type": "code",
   "execution_count": null,
   "id": "139fa443",
   "metadata": {},
   "outputs": [],
   "source": [
    "arr[:,0,0:1,0:1]"
   ]
  },
  {
   "cell_type": "code",
   "execution_count": null,
   "id": "065e3abe",
   "metadata": {},
   "outputs": [],
   "source": [
    "arr[0,1,1] = 1000"
   ]
  },
  {
   "cell_type": "code",
   "execution_count": 84,
   "id": "5853b85c",
   "metadata": {},
   "outputs": [
    {
     "data": {
      "text/plain": [
       "array([[1.00000000e+02, 1.00000000e+02, 1.00000000e+02, 1.00000000e+02,\n",
       "        1.00000000e+02, 1.00000000e+02, 1.00000000e+02, 1.00000000e+02,\n",
       "        1.00000000e+02, 1.00000000e+02],\n",
       "       [2.79617671e-01, 1.00000000e+02, 5.60073908e-01, 6.41044512e-01,\n",
       "        2.66695978e-01, 5.54612098e-01, 6.51029852e-01, 7.39240481e-01,\n",
       "        6.51129272e-01, 2.86382600e-01],\n",
       "       [6.21196046e-01, 3.76889795e-01, 7.91212696e-01, 2.19456461e-01,\n",
       "        4.32228202e-01, 7.61869788e-03, 1.85912314e-01, 5.85670630e-01,\n",
       "        7.98751970e-01, 4.27073252e-02],\n",
       "       [4.43037031e-01, 2.60737791e-01, 7.16817826e-01, 4.91152996e-01,\n",
       "        2.49595309e-01, 9.92583413e-01, 2.89106129e-01, 9.87978447e-01,\n",
       "        5.46868339e-01, 6.30146153e-01],\n",
       "       [6.87267297e-01, 9.87204426e-01, 3.64125717e-01, 3.28862440e-01,\n",
       "        2.47271213e-01, 5.38972975e-01, 8.73677438e-01, 7.56356384e-01,\n",
       "        8.78939659e-01, 9.86272764e-01]])"
      ]
     },
     "execution_count": 84,
     "metadata": {},
     "output_type": "execute_result"
    }
   ],
   "source": [
    "arr"
   ]
  },
  {
   "cell_type": "code",
   "execution_count": 85,
   "id": "86a220e5",
   "metadata": {},
   "outputs": [],
   "source": [
    "arr =np.array([1,3,4,5,6])"
   ]
  },
  {
   "cell_type": "code",
   "execution_count": 86,
   "id": "2c982941",
   "metadata": {},
   "outputs": [
    {
     "data": {
      "text/plain": [
       "array([1, 3, 4, 5, 6])"
      ]
     },
     "execution_count": 86,
     "metadata": {},
     "output_type": "execute_result"
    }
   ],
   "source": [
    "arr"
   ]
  },
  {
   "cell_type": "code",
   "execution_count": 90,
   "id": "70573ffd",
   "metadata": {},
   "outputs": [
    {
     "data": {
      "text/plain": [
       "array([3, 5, 6, 7, 8])"
      ]
     },
     "execution_count": 90,
     "metadata": {},
     "output_type": "execute_result"
    }
   ],
   "source": [
    "arr+2"
   ]
  },
  {
   "cell_type": "code",
   "execution_count": 89,
   "id": "6b01f33e",
   "metadata": {},
   "outputs": [
    {
     "data": {
      "text/plain": [
       "array([-1,  1,  2,  3,  4])"
      ]
     },
     "execution_count": 89,
     "metadata": {},
     "output_type": "execute_result"
    }
   ],
   "source": [
    "arr-2"
   ]
  },
  {
   "cell_type": "code",
   "execution_count": 88,
   "id": "89245767",
   "metadata": {},
   "outputs": [
    {
     "data": {
      "text/plain": [
       "array([ 2,  6,  8, 10, 12])"
      ]
     },
     "execution_count": 88,
     "metadata": {},
     "output_type": "execute_result"
    }
   ],
   "source": [
    "arr*2"
   ]
  },
  {
   "cell_type": "code",
   "execution_count": 87,
   "id": "e4a8eaaf",
   "metadata": {},
   "outputs": [
    {
     "data": {
      "text/plain": [
       "array([0.5, 1.5, 2. , 2.5, 3. ])"
      ]
     },
     "execution_count": 87,
     "metadata": {},
     "output_type": "execute_result"
    }
   ],
   "source": [
    "arr/2"
   ]
  },
  {
   "cell_type": "code",
   "execution_count": 91,
   "id": "a2a16ed5",
   "metadata": {},
   "outputs": [],
   "source": [
    "arr1 = np.array([1,2,3,4,5,6,7])\n",
    "arr2 = np.array([1,2,6,7,8])"
   ]
  },
  {
   "cell_type": "code",
   "execution_count": null,
   "id": "655b3824",
   "metadata": {},
   "outputs": [],
   "source": [
    "arr1-arr2"
   ]
  },
  {
   "cell_type": "code",
   "execution_count": null,
   "id": "c625c84a",
   "metadata": {},
   "outputs": [],
   "source": [
    "git clone \n",
    "git  add .\n",
    "git comit - \"comit\"\n",
    "push \n",
    "status"
   ]
  }
 ],
 "metadata": {
  "kernelspec": {
   "display_name": "Python 3",
   "language": "python",
   "name": "python3"
  },
  "language_info": {
   "codemirror_mode": {
    "name": "ipython",
    "version": 3
   },
   "file_extension": ".py",
   "mimetype": "text/x-python",
   "name": "python",
   "nbconvert_exporter": "python",
   "pygments_lexer": "ipython3",
   "version": "3.11.5"
  }
 },
 "nbformat": 4,
 "nbformat_minor": 5
}
