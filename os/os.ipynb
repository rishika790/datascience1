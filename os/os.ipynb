{
 "cells": [
  {
   "cell_type": "markdown",
   "id": "8458f3f5",
   "metadata": {},
   "source": [
    "## os\n"
   ]
  },
  {
   "cell_type": "code",
   "execution_count": 1,
   "id": "36b73483",
   "metadata": {},
   "outputs": [],
   "source": [
    "import os"
   ]
  },
  {
   "cell_type": "code",
   "execution_count": null,
   "id": "2885b9bc",
   "metadata": {},
   "outputs": [
    {
     "name": "stdout",
     "output_type": "stream",
     "text": [
      "c:\\Users\\rgour\\Desktop\\Data science\\os\n"
     ]
    }
   ],
   "source": [
    "file =os.getcwd()\n",
    "print(file)  # get current working directory"
   ]
  },
  {
   "cell_type": "code",
   "execution_count": 11,
   "id": "98a1fff5",
   "metadata": {},
   "outputs": [
    {
     "data": {
      "text/plain": [
       "['1st']"
      ]
     },
     "execution_count": 11,
     "metadata": {},
     "output_type": "execute_result"
    }
   ],
   "source": [
    "path = r\"C:\\Users\\rgour\\Desktop\\Project\"\n",
    "os.listdir(path)"
   ]
  },
  {
   "cell_type": "code",
   "execution_count": 12,
   "id": "2d27aa8b",
   "metadata": {},
   "outputs": [
    {
     "name": "stdout",
     "output_type": "stream",
     "text": [
      "folder created successfully\n"
     ]
    }
   ],
   "source": [
    "os.mkdir(\"test\")\n",
    "print(\"folder created successfully\")"
   ]
  },
  {
   "cell_type": "code",
   "execution_count": 14,
   "id": "0a2b46c3",
   "metadata": {},
   "outputs": [
    {
     "data": {
      "text/plain": [
       "['os.ipynb', 'test']"
      ]
     },
     "execution_count": 14,
     "metadata": {},
     "output_type": "execute_result"
    }
   ],
   "source": [
    "os.listdir(os.getcwd())"
   ]
  },
  {
   "cell_type": "code",
   "execution_count": 17,
   "id": "0ebbe63b",
   "metadata": {},
   "outputs": [
    {
     "name": "stdout",
     "output_type": "stream",
     "text": [
      "folder rename successfully\n"
     ]
    }
   ],
   "source": [
    "os.rename(\"test\", \"data science\")\n",
    "print(\"folder rename successfully\")"
   ]
  },
  {
   "cell_type": "code",
   "execution_count": 18,
   "id": "345fdf29",
   "metadata": {},
   "outputs": [
    {
     "data": {
      "text/plain": [
       "['data science', 'os.ipynb']"
      ]
     },
     "execution_count": 18,
     "metadata": {},
     "output_type": "execute_result"
    }
   ],
   "source": [
    "os.listdir(os.getcwd())"
   ]
  },
  {
   "cell_type": "code",
   "execution_count": null,
   "id": "9e74e8e8",
   "metadata": {},
   "outputs": [],
   "source": [
    " # os.remove(\"file name\")"
   ]
  },
  {
   "cell_type": "code",
   "execution_count": null,
   "id": "57627426",
   "metadata": {},
   "outputs": [],
   "source": [
    "# os.rmdir(\"data science\")\n",
    "# print(\"folder deleted successfully\")"
   ]
  },
  {
   "cell_type": "code",
   "execution_count": 19,
   "id": "70de9b7f",
   "metadata": {},
   "outputs": [
    {
     "data": {
      "text/plain": [
       "<function nt.getcwd()>"
      ]
     },
     "execution_count": 19,
     "metadata": {},
     "output_type": "execute_result"
    }
   ],
   "source": [
    "os.getcwd"
   ]
  },
  {
   "cell_type": "code",
   "execution_count": 21,
   "id": "45c16c23",
   "metadata": {},
   "outputs": [
    {
     "name": "stdout",
     "output_type": "stream",
     "text": [
      "path exist:- None\n"
     ]
    }
   ],
   "source": [
    "path = r\"C:\\Users\\rgour\\Desktop\\Project\"\n",
    "path = os.environ.get(path)\n",
    "print(\"path exist:-\", path)"
   ]
  },
  {
   "cell_type": "code",
   "execution_count": null,
   "id": "bd53885a",
   "metadata": {},
   "outputs": [],
   "source": [
    "# os.system(path) # system command"
   ]
  },
  {
   "cell_type": "code",
   "execution_count": 23,
   "id": "52f61a2e",
   "metadata": {},
   "outputs": [
    {
     "data": {
      "text/plain": [
       "False"
      ]
     },
     "execution_count": 23,
     "metadata": {},
     "output_type": "execute_result"
    }
   ],
   "source": [
    "path = r\"C:\\Users\\rgour\\Desktop\\Project\"\n",
    "os.path.isfile(path)"
   ]
  },
  {
   "cell_type": "code",
   "execution_count": 25,
   "id": "e44b90bf",
   "metadata": {},
   "outputs": [
    {
     "data": {
      "text/plain": [
       "<function genericpath.isdir(s)>"
      ]
     },
     "execution_count": 25,
     "metadata": {},
     "output_type": "execute_result"
    }
   ],
   "source": [
    "path = r\"C:\\Users\\rgour\\Desktop\\Project\"\n",
    "os.path.isdir # path check krna ho"
   ]
  },
  {
   "cell_type": "code",
   "execution_count": 26,
   "id": "cb1bf6ed",
   "metadata": {},
   "outputs": [
    {
     "name": "stdout",
     "output_type": "stream",
     "text": [
      "C:\\Users\\rgour\\Desktop\\Project\n"
     ]
    },
    {
     "data": {
      "text/plain": [
       "['1st']"
      ]
     },
     "execution_count": 26,
     "metadata": {},
     "output_type": "execute_result"
    }
   ],
   "source": [
    "path1 = r\"C:\\Users\\rgour\"\n",
    "path2 = r\"Desktop\\Project\"\n",
    "complete_path =os.path.join(path1,path2)\n",
    "print(complete_path)\n",
    "os.listdir(complete_path)"
   ]
  },
  {
   "cell_type": "code",
   "execution_count": 28,
   "id": "55b72793",
   "metadata": {},
   "outputs": [
    {
     "name": "stdout",
     "output_type": "stream",
     "text": [
      "size of the file(in bytes):- 0\n"
     ]
    }
   ],
   "source": [
    "path = r\"c:\\Users\\rgour\\Desktop\\Project\"\n",
    "size =os.path.getsize(path)\n",
    "print(\"size of the file(in bytes):-\", size)"
   ]
  },
  {
   "cell_type": "code",
   "execution_count": 29,
   "id": "038e379f",
   "metadata": {},
   "outputs": [
    {
     "name": "stdout",
     "output_type": "stream",
     "text": [
      "befor dir c:\\Users\\rgour\\Desktop\\Data science\\os\n",
      "after dir C:\\Users\\rgour\\Desktop\\Project\n"
     ]
    }
   ],
   "source": [
    "print(\"befor dir\",os.getcwd())\n",
    "os.chdir(r\"C:\\Users\\rgour\\Desktop\\Project\")\n",
    "print(\"after dir\", os.getcwd())"
   ]
  },
  {
   "cell_type": "code",
   "execution_count": null,
   "id": "d511ce2d",
   "metadata": {},
   "outputs": [],
   "source": []
  }
 ],
 "metadata": {
  "kernelspec": {
   "display_name": "Python 3",
   "language": "python",
   "name": "python3"
  },
  "language_info": {
   "codemirror_mode": {
    "name": "ipython",
    "version": 3
   },
   "file_extension": ".py",
   "mimetype": "text/x-python",
   "name": "python",
   "nbconvert_exporter": "python",
   "pygments_lexer": "ipython3",
   "version": "3.11.5"
  }
 },
 "nbformat": 4,
 "nbformat_minor": 5
}
