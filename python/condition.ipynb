{
 "cells": [
  {
   "cell_type": "code",
   "execution_count": 1,
   "id": "e1da0553",
   "metadata": {},
   "outputs": [
    {
     "data": {
      "text/plain": [
       "10"
      ]
     },
     "execution_count": 1,
     "metadata": {},
     "output_type": "execute_result"
    }
   ],
   "source": [
    "a = 10\n",
    "a"
   ]
  },
  {
   "cell_type": "code",
   "execution_count": null,
   "id": "2438da64",
   "metadata": {},
   "outputs": [],
   "source": []
  },
  {
   "cell_type": "markdown",
   "id": "6d57b195",
   "metadata": {},
   "source": [
    "## conditional statement"
   ]
  },
  {
   "cell_type": "markdown",
   "id": "39b53512",
   "metadata": {},
   "source": [
    " x = 0\n",
    " if x <10;\n",
    " print(\"x hai vo chota hai 10\")"
   ]
  },
  {
   "cell_type": "markdown",
   "id": "88275933",
   "metadata": {},
   "source": [
    "x = 20\n",
    "if x<10\"\n",
    "print(\"x hai vo chota hai 10 se')\n",
    "\n",
    "else x== 20;\n",
    "print(\"x ki value hai 20 hai\")\n"
   ]
  },
  {
   "cell_type": "markdown",
   "id": "41dc4023",
   "metadata": {},
   "source": [
    "x=18\n",
    "ifx=18;\n",
    "print(\"x age wale hi vote de sakte hai\")"
   ]
  },
  {
   "cell_type": "markdown",
   "id": "4e93ebcb",
   "metadata": {},
   "source": [
    "# find the largest number\n",
    "# Check Even or Odd\n",
    "# Leap Year checker\n",
    "# Grading system\n",
    "# 90 and above; Grade A\n",
    "# 7 to 89; grade \n",
    "# 60 to 74\n",
    "# below 60; grade d\n",
    "# find largest of three number\n"
   ]
  },
  {
   "cell_type": "code",
   "execution_count": 2,
   "id": "2afbef2e",
   "metadata": {},
   "outputs": [
    {
     "name": "stdout",
     "output_type": "stream",
     "text": [
      "largest is: 20\n"
     ]
    }
   ],
   "source": [
    "a = 10\n",
    "b = 20\n",
    "if a>b:\n",
    "    print(\"largest number is:\", a)\n",
    "else:\n",
    "    print(\"largest is:\", b)\n"
   ]
  },
  {
   "cell_type": "code",
   "execution_count": 3,
   "id": "d9bb2a99",
   "metadata": {},
   "outputs": [
    {
     "name": "stdout",
     "output_type": "stream",
     "text": [
      "Odd\n"
     ]
    }
   ],
   "source": [
    "num = 7\n",
    "if num % 2 == 0:\n",
    "    print(\"Even\")\n",
    "else:\n",
    "    print(\"Odd\")"
   ]
  },
  {
   "cell_type": "code",
   "execution_count": 1,
   "id": "410df40c",
   "metadata": {},
   "outputs": [
    {
     "name": "stdout",
     "output_type": "stream",
     "text": [
      "Grade B\n"
     ]
    }
   ],
   "source": [
    "marks = 85\n",
    "\n",
    "if marks >= 90:\n",
    "    print(\"Grade A\")\n",
    "elif marks >= 75:\n",
    "    print(\"Grade B\")\n",
    "elif marks >= 60:\n",
    "    print(\"Grade C\")\n",
    "else:\n",
    "    print(\"Grade D\")"
   ]
  },
  {
   "cell_type": "code",
   "execution_count": 2,
   "id": "d84aa889",
   "metadata": {},
   "outputs": [
    {
     "name": "stdout",
     "output_type": "stream",
     "text": [
      "Leap Year\n"
     ]
    }
   ],
   "source": [
    "year = 2024\n",
    "\n",
    "if (year % 4 == 0 and year % 100 != 0) or (year % 400 == 0):\n",
    "    print(\"Leap Year\")\n",
    "else:\n",
    "    print(\"Not a Leap Year\")"
   ]
  },
  {
   "cell_type": "code",
   "execution_count": null,
   "id": "19b342f2",
   "metadata": {},
   "outputs": [],
   "source": []
  },
  {
   "cell_type": "code",
   "execution_count": null,
   "id": "449ebfe6",
   "metadata": {},
   "outputs": [],
   "source": []
  }
 ],
 "metadata": {
  "kernelspec": {
   "display_name": "Python 3",
   "language": "python",
   "name": "python3"
  },
  "language_info": {
   "codemirror_mode": {
    "name": "ipython",
    "version": 3
   },
   "file_extension": ".py",
   "mimetype": "text/x-python",
   "name": "python",
   "nbconvert_exporter": "python",
   "pygments_lexer": "ipython3",
   "version": "3.11.5"
  }
 },
 "nbformat": 4,
 "nbformat_minor": 5
}
