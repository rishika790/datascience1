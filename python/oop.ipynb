{
 "cells": [
  {
   "cell_type": "markdown",
   "id": "185d6275",
   "metadata": {},
   "source": [
    "### oops concept in python"
   ]
  },
  {
   "cell_type": "code",
   "execution_count": null,
   "id": "4f165aec",
   "metadata": {},
   "outputs": [],
   "source": [
    "# global variable\n",
    "# local variable\n",
    "### polymorphism\n",
    "#### inheritance\n",
    "# encap\n",
    "# abstraction"
   ]
  },
  {
   "cell_type": "code",
   "execution_count": 1,
   "id": "23610a12",
   "metadata": {},
   "outputs": [],
   "source": [
    "class Class_name:\n",
    "      pass\n"
   ]
  },
  {
   "cell_type": "code",
   "execution_count": 8,
   "id": "e4aae439",
   "metadata": {},
   "outputs": [
    {
     "name": "stdout",
     "output_type": "stream",
     "text": [
      "my name isrishikaand my age is 18\n"
     ]
    }
   ],
   "source": [
    "class Student:\n",
    "      name =\"rishika\"\n",
    "      age = 18\n",
    "      print(f\"my name is{name }and my age is {age}\")\n",
    "obj_st=Student()\n"
   ]
  },
  {
   "cell_type": "code",
   "execution_count": 9,
   "id": "624c253a",
   "metadata": {},
   "outputs": [
    {
     "data": {
      "text/plain": [
       "'rishika'"
      ]
     },
     "execution_count": 9,
     "metadata": {},
     "output_type": "execute_result"
    }
   ],
   "source": [
    "obj_st.name"
   ]
  },
  {
   "cell_type": "code",
   "execution_count": 14,
   "id": "e4e4bbf4",
   "metadata": {},
   "outputs": [
    {
     "data": {
      "text/plain": [
       "18"
      ]
     },
     "execution_count": 14,
     "metadata": {},
     "output_type": "execute_result"
    }
   ],
   "source": [
    "obj_st.age"
   ]
  },
  {
   "cell_type": "code",
   "execution_count": null,
   "id": "e97d38ad",
   "metadata": {},
   "outputs": [],
   "source": [
    "st_obj=Student()"
   ]
  },
  {
   "cell_type": "code",
   "execution_count": null,
   "id": "5e0e631f",
   "metadata": {},
   "outputs": [],
   "source": [
    "st_obj.info()"
   ]
  },
  {
   "cell_type": "markdown",
   "id": "19aaecb3",
   "metadata": {},
   "source": [
    "## inheritance"
   ]
  },
  {
   "cell_type": "code",
   "execution_count": null,
   "id": "c5306d68",
   "metadata": {},
   "outputs": [],
   "source": [
    "# types \n",
    "single\n",
    "multiple\n",
    "multilevel\n",
    "hierarachical\n",
    "hybrid"
   ]
  },
  {
   "cell_type": "code",
   "execution_count": null,
   "id": "b0d41744",
   "metadata": {},
   "outputs": [],
   "source": [
    "class College:\n",
    "    pass\n",
    "\n",
    "class Student:\n",
    "    pass"
   ]
  },
  {
   "cell_type": "code",
   "execution_count": 19,
   "id": "e7db0a50",
   "metadata": {},
   "outputs": [],
   "source": [
    "# single\n",
    "class College:\n",
    "    pass\n",
    "class Student(College):\n",
    "    pass"
   ]
  },
  {
   "cell_type": "code",
   "execution_count": null,
   "id": "ec141828",
   "metadata": {},
   "outputs": [],
   "source": [
    "class College:\n",
    "    pass\n",
    "college_name = \"Govt women engineering \"\n",
    "college_address = \"beawara\"\n",
    "class Student(College):\n",
    "    "
   ]
  },
  {
   "cell_type": "code",
   "execution_count": null,
   "id": "34f5e919",
   "metadata": {},
   "outputs": [
    {
     "name": "stdout",
     "output_type": "stream",
     "text": [
      "anil\n",
      "1234\n",
      "krishna\n"
     ]
    }
   ],
   "source": [
    "# multiple inheritance example\n",
    "\n",
    "class Father:\n",
    "    father_name = \"anil\"\n",
    "    father_id = \"1234\"\n",
    "\n",
    "class Uncle:\n",
    "    uncle_name = \"krishna\"\n",
    "\n",
    "class Child(Father, Uncle):\n",
    "    pass\n",
    "\n",
    "# Create object\n",
    "obj_child = Child()\n",
    "print(obj_child.father_name)\n",
    "print(obj_child.father_id)\n",
    "print(obj_child.uncle_name)"
   ]
  },
  {
   "cell_type": "markdown",
   "id": "23ae190c",
   "metadata": {},
   "source": [
    "## Encapsulation"
   ]
  },
  {
   "cell_type": "code",
   "execution_count": null,
   "id": "df81d02b",
   "metadata": {},
   "outputs": [],
   "source": [
    "class Student:\n",
    "       _name = \"rishika\"\n",
    "       age = 19\n",
    "       id = \"1234\"\n",
    "st_obj =Student()"
   ]
  },
  {
   "cell_type": "code",
   "execution_count": null,
   "id": "4e28c15b",
   "metadata": {},
   "outputs": [
    {
     "data": {
      "text/plain": [
       "19"
      ]
     },
     "execution_count": 4,
     "metadata": {},
     "output_type": "execute_result"
    }
   ],
   "source": [
    "st_obj.age"
   ]
  },
  {
   "cell_type": "code",
   "execution_count": null,
   "id": "30124d42",
   "metadata": {},
   "outputs": [],
   "source": [
    "# st_obj._Student__name private variable ko access karta hai"
   ]
  },
  {
   "cell_type": "code",
   "execution_count": null,
   "id": "09526cd6",
   "metadata": {},
   "outputs": [],
   "source": [
    "# st_obj._id"
   ]
  },
  {
   "cell_type": "code",
   "execution_count": null,
   "id": "7b847133",
   "metadata": {},
   "outputs": [],
   "source": [
    "# bank naam se id account number save"
   ]
  },
  {
   "cell_type": "code",
   "execution_count": null,
   "id": "84f52add",
   "metadata": {},
   "outputs": [],
   "source": [
    "class Bank:\n",
    "    _id = \"77777\" # private"
   ]
  },
  {
   "cell_type": "code",
   "execution_count": null,
   "id": "fd38afc1",
   "metadata": {},
   "outputs": [],
   "source": [
    " \n",
    "# balance deposite krwana hai"
   ]
  },
  {
   "cell_type": "code",
   "execution_count": null,
   "id": "652bc869",
   "metadata": {},
   "outputs": [],
   "source": [
    "class ClassName:\n",
    "    def method_name:"
   ]
  },
  {
   "cell_type": "code",
   "execution_count": null,
   "id": "9bd1de38",
   "metadata": {},
   "outputs": [],
   "source": [
    "class Bank:\n",
    "    account_number = \"01234\"\n",
    "    name = \"rishika\"\n",
    "    phone_number = \"978634629\"\n",
    "    address = \"beawar\"\n",
    "    deposite = \"5000\"\n",
    "    balance = \"20000\"\n",
    "bn_obj=Bank()\n",
    "    "
   ]
  },
  {
   "cell_type": "code",
   "execution_count": null,
   "id": "3bc994ef",
   "metadata": {},
   "outputs": [],
   "source": [
    "class Bank:\n",
    "    def__int__(self,account_holder = 0)\n",
    "    self.account_holder = account_holder\n",
    "    self.balance"
   ]
  },
  {
   "cell_type": "code",
   "execution_count": null,
   "id": "5af4d383",
   "metadata": {},
   "outputs": [],
   "source": [
    "# super function \n",
    "# project Bmi calculator\n",
    "class ke through kaam"
   ]
  },
  {
   "cell_type": "markdown",
   "id": "c276b04b",
   "metadata": {},
   "source": [
    "### constructor"
   ]
  },
  {
   "cell_type": "code",
   "execution_count": null,
   "id": "cc31bbe2",
   "metadata": {},
   "outputs": [],
   "source": [
    "class Bank:\n",
    "    def __init__(self,name,age,account_number,phone_number,address):\n",
    "        self.name = name\n",
    "        self.age = age \n",
    "        self.__account_number = account_number\n",
    "        self.phone_number = phone_number\n",
    "        self.address = address \n",
    "\n",
    "    def deposit(self,ammount):\n",
    "        self.ammount = ammount\n",
    "    def withdraw(self,ammount):\n",
    "        self.ammount = ammount\n",
    "    def total_balance(self):\n",
    "        return self.ammount\n",
    "    def info(self):\n",
    "        print(f\"name{self.name},and age{self.age},and account_number{self.__account_number},and phone_number{self.phone_number},and address{self.address}\")\n",
    "bn_obj = Bank(name = \" rishika\",age =  20,account_number=\" 01334567\",phone_number= 1234567890,address=\" beawar\")\n",
    "\n"
   ]
  },
  {
   "cell_type": "code",
   "execution_count": null,
   "id": "2ec4f9dc",
   "metadata": {},
   "outputs": [
    {
     "name": "stdout",
     "output_type": "stream",
     "text": [
      "name rishika,and age20,and account_number 01334567,and phone_number1234567890,and address beawar\n"
     ]
    }
   ],
   "source": [
    "bn_obj.info()"
   ]
  },
  {
   "cell_type": "code",
   "execution_count": 8,
   "id": "7356520a",
   "metadata": {},
   "outputs": [
    {
     "name": "stdout",
     "output_type": "stream",
     "text": [
      "\n",
      "Your BMI is: 0.32\n",
      "Category: Underweight\n"
     ]
    }
   ],
   "source": [
    "class BMICalculator:\n",
    "    def __init__(self , weight, height):\n",
    "     self.weight = weight\n",
    "     self.height = height  \n",
    "    def calculator_bmi(self):\n",
    "         bmi = self.weight / (self.height ** 2)\n",
    "         return bmi\n",
    "    def get_category(self):\n",
    "         bmi = self.calculator_bmi()\n",
    "         if bmi < 18.5:\n",
    "              return \"Underweight\"\n",
    "         elif 18.5 <= bmi < 24.9:\n",
    "            return \"Normal weight\"\n",
    "         elif 25 <= bmi < 29.9:\n",
    "            return \"Overweight\"\n",
    "         else:\n",
    "            return \"Obese\"\n",
    "weight = float(input(\"Enter weight (in kg):\"))\n",
    "height = float(input(\"Enter height (in meters):\"))\n",
    "person = BMICalculator(weight,height)\n",
    "bmi = person.calculator_bmi()\n",
    "category = person.get_category()\n",
    "print(f\"\\nYour BMI is: {bmi:.2f}\")\n",
    "print(f\"Category: {category}\")  \n"
   ]
  },
  {
   "cell_type": "code",
   "execution_count": null,
   "id": "807759f3",
   "metadata": {},
   "outputs": [],
   "source": []
  }
 ],
 "metadata": {
  "kernelspec": {
   "display_name": "Python 3",
   "language": "python",
   "name": "python3"
  },
  "language_info": {
   "codemirror_mode": {
    "name": "ipython",
    "version": 3
   },
   "file_extension": ".py",
   "mimetype": "text/x-python",
   "name": "python",
   "nbconvert_exporter": "python",
   "pygments_lexer": "ipython3",
   "version": "3.11.5"
  }
 },
 "nbformat": 4,
 "nbformat_minor": 5
}
