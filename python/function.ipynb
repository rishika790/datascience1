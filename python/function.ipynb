{
 "cells": [
  {
   "cell_type": "code",
   "execution_count": null,
   "id": "d974dc73",
   "metadata": {},
   "outputs": [],
   "source": [
    "# function\n",
    "user defined\n",
    "pre defined"
   ]
  },
  {
   "cell_type": "code",
   "execution_count": null,
   "id": "30758e14",
   "metadata": {},
   "outputs": [],
   "source": [
    "def function_name():\n",
    "    pass \n",
    "\n",
    "function_name>>>>>>>>>>>>>.function Name ( name define)\n",
    "def is keyword\n",
    "pass.>>>>>>>>.placeholder\n",
    "\n",
    "function_name()   ## >>> calling function"
   ]
  },
  {
   "cell_type": "code",
   "execution_count": 10,
   "id": "34456316",
   "metadata": {},
   "outputs": [],
   "source": [
    "def display():\n",
    "    print(\"hello\")"
   ]
  },
  {
   "cell_type": "code",
   "execution_count": 11,
   "id": "e1468899",
   "metadata": {},
   "outputs": [
    {
     "name": "stdout",
     "output_type": "stream",
     "text": [
      "hello\n"
     ]
    }
   ],
   "source": [
    "display()"
   ]
  },
  {
   "cell_type": "code",
   "execution_count": 12,
   "id": "a09d6d9a",
   "metadata": {},
   "outputs": [
    {
     "name": "stdout",
     "output_type": "stream",
     "text": [
      "hello\n"
     ]
    }
   ],
   "source": [
    "display()"
   ]
  },
  {
   "cell_type": "code",
   "execution_count": 1,
   "id": "b1c19f3a",
   "metadata": {},
   "outputs": [
    {
     "name": "stdout",
     "output_type": "stream",
     "text": [
      "30\n"
     ]
    }
   ],
   "source": [
    "def add():\n",
    "    a = 10\n",
    "    b = 20\n",
    "    print(a+b)\n",
    "add()"
   ]
  },
  {
   "cell_type": "code",
   "execution_count": null,
   "id": "338afbea",
   "metadata": {},
   "outputs": [],
   "source": [
    "add()"
   ]
  },
  {
   "cell_type": "code",
   "execution_count": 11,
   "id": "2ad252a3",
   "metadata": {},
   "outputs": [
    {
     "name": "stdout",
     "output_type": "stream",
     "text": [
      "30\n"
     ]
    }
   ],
   "source": [
    "def add(a,b):\n",
    "    print(a+b)\n",
    "add(10 , 20)\n"
   ]
  },
  {
   "cell_type": "code",
   "execution_count": null,
   "id": "c6b5439d",
   "metadata": {},
   "outputs": [],
   "source": [
    "# def display(name , age , address= \"beawar\"):\n",
    "    # print(my name is {name} and my {age} , and i am from {address})"
   ]
  },
  {
   "cell_type": "code",
   "execution_count": 13,
   "id": "954258af",
   "metadata": {},
   "outputs": [
    {
     "data": {
      "text/plain": [
       "'rishika , 20'"
      ]
     },
     "metadata": {},
     "output_type": "display_data"
    }
   ],
   "source": [
    "display('rishika , 20')"
   ]
  },
  {
   "cell_type": "code",
   "execution_count": null,
   "id": "f00cfb3c",
   "metadata": {},
   "outputs": [],
   "source": []
  },
  {
   "cell_type": "code",
   "execution_count": 12,
   "id": "fb66f85e",
   "metadata": {},
   "outputs": [
    {
     "data": {
      "text/plain": [
       "'rishika'"
      ]
     },
     "metadata": {},
     "output_type": "display_data"
    },
    {
     "data": {
      "text/plain": [
       "20"
      ]
     },
     "metadata": {},
     "output_type": "display_data"
    },
    {
     "data": {
      "text/plain": [
       "'gour'"
      ]
     },
     "metadata": {},
     "output_type": "display_data"
    }
   ],
   "source": [
    "display(\"rishika\" , 20 ,\"gour\")"
   ]
  },
  {
   "cell_type": "code",
   "execution_count": null,
   "id": "48aca862",
   "metadata": {},
   "outputs": [],
   "source": [
    "# lamda funbction\n",
    "# lamda is anonymous function\n",
    "# used single line function\n",
    "# short function\n",
    "# one line funtion\n",
    "# key word h "
   ]
  },
  {
   "cell_type": "code",
   "execution_count": 6,
   "id": "b050ba8a",
   "metadata": {},
   "outputs": [
    {
     "name": "stdout",
     "output_type": "stream",
     "text": [
      "30\n"
     ]
    }
   ],
   "source": [
    "add = lambda a,b :a+b\n",
    "print(add(10,20))"
   ]
  },
  {
   "cell_type": "code",
   "execution_count": 9,
   "id": "9aa7d542",
   "metadata": {},
   "outputs": [
    {
     "name": "stdout",
     "output_type": "stream",
     "text": [
      "100\n"
     ]
    }
   ],
   "source": [
    "square = lambda x: x**2\n",
    "print(square(10))"
   ]
  }
 ],
 "metadata": {
  "kernelspec": {
   "display_name": "Python 3",
   "language": "python",
   "name": "python3"
  },
  "language_info": {
   "codemirror_mode": {
    "name": "ipython",
    "version": 3
   },
   "file_extension": ".py",
   "mimetype": "text/x-python",
   "name": "python",
   "nbconvert_exporter": "python",
   "pygments_lexer": "ipython3",
   "version": "3.11.5"
  }
 },
 "nbformat": 4,
 "nbformat_minor": 5
}
